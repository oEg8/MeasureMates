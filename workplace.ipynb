{
 "cells": [
  {
   "cell_type": "code",
   "execution_count": 2,
   "metadata": {},
   "outputs": [
    {
     "name": "stdout",
     "output_type": "stream",
     "text": [
      "Number of boxes: 7\n"
     ]
    }
   ],
   "source": [
    "import cv2\n",
    "import numpy as np\n",
    "\n",
    "image_path = '/Users/hwoutersen/Desktop/School/Jaar3/sem 6/code/imgs/ruler2.png'\n",
    "image = cv2.imread(image_path)\n",
    "\n",
    "gray = cv2.cvtColor(image, cv2.COLOR_BGR2GRAY)\n",
    "\n",
    "_, binary = cv2.threshold(gray, 100, 255, cv2.THRESH_BINARY)\n",
    "\n",
    "contours, _ = cv2.findContours(binary, cv2.RETR_EXTERNAL, cv2.CHAIN_APPROX_SIMPLE)\n",
    "\n",
    "min_box_area = 2000\n",
    "\n",
    "valid_contours = [contour for contour in contours if cv2.contourArea(contour) >= min_box_area]\n",
    "\n",
    "number_of_boxes = len(valid_contours)\n",
    "print(f\"Number of boxes: {number_of_boxes}\")"
   ]
  },
  {
   "cell_type": "code",
   "execution_count": null,
   "metadata": {},
   "outputs": [
    {
     "name": "stderr",
     "output_type": "stream",
     "text": [
      "2025-02-18 14:49:18.629 python[75215:26159090] +[IMKClient subclass]: chose IMKClient_Modern\n",
      "2025-02-18 14:49:18.629 python[75215:26159090] +[IMKInputSession subclass]: chose IMKInputSession_Modern\n"
     ]
    },
    {
     "ename": "",
     "evalue": "",
     "output_type": "error",
     "traceback": [
      "\u001b[1;31mThe Kernel crashed while executing code in the current cell or a previous cell. \n",
      "\u001b[1;31mPlease review the code in the cell(s) to identify a possible cause of the failure. \n",
      "\u001b[1;31mClick <a href='https://aka.ms/vscodeJupyterKernelCrash'>here</a> for more info. \n",
      "\u001b[1;31mView Jupyter <a href='command:jupyter.viewOutput'>log</a> for further details."
     ]
    }
   ],
   "source": [
    "image_with_contours = image.copy()\n",
    "cv2.drawContours(image_with_contours, valid_contours, -1, (0, 255, 0), 2);\n",
    "\n",
    "cv2.imshow(\"Contours\", image_with_contours)\n",
    "\n",
    "while True:\n",
    "    key = cv2.waitKey(1) & 0xFF  # Capture key press\n",
    "\n",
    "    if key == ord('q'):  # Press 'q' to close the window\n",
    "        break\n",
    "\n",
    "cv2.destroyAllWindows()"
   ]
  }
 ],
 "metadata": {
  "kernelspec": {
   "display_name": "sem6",
   "language": "python",
   "name": "python3"
  },
  "language_info": {
   "codemirror_mode": {
    "name": "ipython",
    "version": 3
   },
   "file_extension": ".py",
   "mimetype": "text/x-python",
   "name": "python",
   "nbconvert_exporter": "python",
   "pygments_lexer": "ipython3",
   "version": "3.10.16"
  }
 },
 "nbformat": 4,
 "nbformat_minor": 2
}
